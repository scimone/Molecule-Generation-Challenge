{
  "nbformat": 4,
  "nbformat_minor": 0,
  "metadata": {
    "accelerator": "GPU",
    "colab": {
      "name": "MoleculeGeneration_(2).ipynb",
      "provenance": [],
      "collapsed_sections": []
    },
    "kernelspec": {
      "display_name": "Python 3",
      "name": "python3"
    },
    "language_info": {
      "name": "python"
    }
  },
  "cells": [
    {
      "cell_type": "markdown",
      "metadata": {
        "id": "a9e1YQ3yst3C"
      },
      "source": [
        "# Imports"
      ]
    },
    {
      "cell_type": "code",
      "metadata": {
        "colab": {
          "base_uri": "https://localhost:8080/"
        },
        "id": "J_HEqxgaaQ_v",
        "outputId": "229daeaa-b00e-43d7-b736-c35ae572055a"
      },
      "source": [
        "!pip install kora -q\n",
        "import kora.install.rdkit\n",
        "!pip install deepchem\n",
        "!pip install fcd\n",
        "!pip install SmilesPE"
      ],
      "execution_count": 1,
      "outputs": [
        {
          "output_type": "stream",
          "text": [
            "\u001b[?25l\r\u001b[K     |█████▊                          | 10kB 22.8MB/s eta 0:00:01\r\u001b[K     |███████████▍                    | 20kB 29.4MB/s eta 0:00:01\r\u001b[K     |█████████████████               | 30kB 28.5MB/s eta 0:00:01\r\u001b[K     |██████████████████████▊         | 40kB 19.9MB/s eta 0:00:01\r\u001b[K     |████████████████████████████▍   | 51kB 17.6MB/s eta 0:00:01\r\u001b[K     |████████████████████████████████| 61kB 6.9MB/s \n",
            "\u001b[K     |████████████████████████████████| 61kB 6.9MB/s \n",
            "\u001b[?25hCollecting deepchem\n",
            "\u001b[?25l  Downloading https://files.pythonhosted.org/packages/92/01/0eb8ffcb25826af32ca6efcf624206ef95825ffb00a12e2db802cc0a0b22/deepchem-2.5.0-py3-none-any.whl (552kB)\n",
            "\u001b[K     |████████████████████████████████| 552kB 14.5MB/s \n",
            "\u001b[?25hRequirement already satisfied: pandas in /usr/local/lib/python3.7/dist-packages (from deepchem) (1.1.5)\n",
            "Requirement already satisfied: numpy in /usr/local/lib/python3.7/dist-packages (from deepchem) (1.19.5)\n",
            "Requirement already satisfied: scikit-learn in /usr/local/lib/python3.7/dist-packages (from deepchem) (0.22.2.post1)\n",
            "Requirement already satisfied: scipy in /usr/local/lib/python3.7/dist-packages (from deepchem) (1.4.1)\n",
            "Requirement already satisfied: joblib in /usr/local/lib/python3.7/dist-packages (from deepchem) (1.0.1)\n",
            "Requirement already satisfied: pytz>=2017.2 in /usr/local/lib/python3.7/dist-packages (from pandas->deepchem) (2018.9)\n",
            "Requirement already satisfied: python-dateutil>=2.7.3 in /usr/local/lib/python3.7/dist-packages (from pandas->deepchem) (2.8.1)\n",
            "Requirement already satisfied: six>=1.5 in /usr/local/lib/python3.7/dist-packages (from python-dateutil>=2.7.3->pandas->deepchem) (1.15.0)\n",
            "Installing collected packages: deepchem\n",
            "Successfully installed deepchem-2.5.0\n",
            "Collecting fcd\n",
            "\u001b[?25l  Downloading https://files.pythonhosted.org/packages/a8/1d/75bf35ec742cbe679bfe373e5a0859a1debbd1bcc15d3cfa0930620438b2/FCD-1.1-py3-none-any.whl (53.1MB)\n",
            "\u001b[K     |████████████████████████████████| 53.1MB 86kB/s \n",
            "\u001b[?25hRequirement already satisfied: numpy in /usr/local/lib/python3.7/dist-packages (from fcd) (1.19.5)\n",
            "Requirement already satisfied: keras in /usr/local/lib/python3.7/dist-packages (from fcd) (2.4.3)\n",
            "Requirement already satisfied: scipy in /usr/local/lib/python3.7/dist-packages (from fcd) (1.4.1)\n",
            "Requirement already satisfied: tensorflow in /usr/local/lib/python3.7/dist-packages (from fcd) (2.5.0)\n",
            "Requirement already satisfied: h5py in /usr/local/lib/python3.7/dist-packages (from keras->fcd) (3.1.0)\n",
            "Requirement already satisfied: pyyaml in /usr/local/lib/python3.7/dist-packages (from keras->fcd) (3.13)\n",
            "Requirement already satisfied: keras-preprocessing~=1.1.2 in /usr/local/lib/python3.7/dist-packages (from tensorflow->fcd) (1.1.2)\n",
            "Requirement already satisfied: six~=1.15.0 in /usr/local/lib/python3.7/dist-packages (from tensorflow->fcd) (1.15.0)\n",
            "Requirement already satisfied: keras-nightly~=2.5.0.dev in /usr/local/lib/python3.7/dist-packages (from tensorflow->fcd) (2.5.0.dev2021032900)\n",
            "Requirement already satisfied: termcolor~=1.1.0 in /usr/local/lib/python3.7/dist-packages (from tensorflow->fcd) (1.1.0)\n",
            "Requirement already satisfied: absl-py~=0.10 in /usr/local/lib/python3.7/dist-packages (from tensorflow->fcd) (0.12.0)\n",
            "Requirement already satisfied: typing-extensions~=3.7.4 in /usr/local/lib/python3.7/dist-packages (from tensorflow->fcd) (3.7.4.3)\n",
            "Requirement already satisfied: tensorboard~=2.5 in /usr/local/lib/python3.7/dist-packages (from tensorflow->fcd) (2.5.0)\n",
            "Requirement already satisfied: tensorflow-estimator<2.6.0,>=2.5.0rc0 in /usr/local/lib/python3.7/dist-packages (from tensorflow->fcd) (2.5.0)\n",
            "Requirement already satisfied: opt-einsum~=3.3.0 in /usr/local/lib/python3.7/dist-packages (from tensorflow->fcd) (3.3.0)\n",
            "Requirement already satisfied: flatbuffers~=1.12.0 in /usr/local/lib/python3.7/dist-packages (from tensorflow->fcd) (1.12)\n",
            "Requirement already satisfied: protobuf>=3.9.2 in /usr/local/lib/python3.7/dist-packages (from tensorflow->fcd) (3.12.4)\n",
            "Requirement already satisfied: wrapt~=1.12.1 in /usr/local/lib/python3.7/dist-packages (from tensorflow->fcd) (1.12.1)\n",
            "Requirement already satisfied: google-pasta~=0.2 in /usr/local/lib/python3.7/dist-packages (from tensorflow->fcd) (0.2.0)\n",
            "Requirement already satisfied: gast==0.4.0 in /usr/local/lib/python3.7/dist-packages (from tensorflow->fcd) (0.4.0)\n",
            "Requirement already satisfied: grpcio~=1.34.0 in /usr/local/lib/python3.7/dist-packages (from tensorflow->fcd) (1.34.1)\n",
            "Requirement already satisfied: wheel~=0.35 in /usr/local/lib/python3.7/dist-packages (from tensorflow->fcd) (0.36.2)\n",
            "Requirement already satisfied: astunparse~=1.6.3 in /usr/local/lib/python3.7/dist-packages (from tensorflow->fcd) (1.6.3)\n",
            "Requirement already satisfied: cached-property; python_version < \"3.8\" in /usr/local/lib/python3.7/dist-packages (from h5py->keras->fcd) (1.5.2)\n",
            "Requirement already satisfied: google-auth-oauthlib<0.5,>=0.4.1 in /usr/local/lib/python3.7/dist-packages (from tensorboard~=2.5->tensorflow->fcd) (0.4.4)\n",
            "Requirement already satisfied: google-auth<2,>=1.6.3 in /usr/local/lib/python3.7/dist-packages (from tensorboard~=2.5->tensorflow->fcd) (1.30.0)\n",
            "Requirement already satisfied: setuptools>=41.0.0 in /usr/local/lib/python3.7/dist-packages (from tensorboard~=2.5->tensorflow->fcd) (56.1.0)\n",
            "Requirement already satisfied: werkzeug>=0.11.15 in /usr/local/lib/python3.7/dist-packages (from tensorboard~=2.5->tensorflow->fcd) (1.0.1)\n",
            "Requirement already satisfied: tensorboard-data-server<0.7.0,>=0.6.0 in /usr/local/lib/python3.7/dist-packages (from tensorboard~=2.5->tensorflow->fcd) (0.6.1)\n",
            "Requirement already satisfied: markdown>=2.6.8 in /usr/local/lib/python3.7/dist-packages (from tensorboard~=2.5->tensorflow->fcd) (3.3.4)\n",
            "Requirement already satisfied: tensorboard-plugin-wit>=1.6.0 in /usr/local/lib/python3.7/dist-packages (from tensorboard~=2.5->tensorflow->fcd) (1.8.0)\n",
            "Requirement already satisfied: requests<3,>=2.21.0 in /usr/local/lib/python3.7/dist-packages (from tensorboard~=2.5->tensorflow->fcd) (2.23.0)\n",
            "Requirement already satisfied: requests-oauthlib>=0.7.0 in /usr/local/lib/python3.7/dist-packages (from google-auth-oauthlib<0.5,>=0.4.1->tensorboard~=2.5->tensorflow->fcd) (1.3.0)\n",
            "Requirement already satisfied: rsa<5,>=3.1.4; python_version >= \"3.6\" in /usr/local/lib/python3.7/dist-packages (from google-auth<2,>=1.6.3->tensorboard~=2.5->tensorflow->fcd) (4.7.2)\n",
            "Requirement already satisfied: cachetools<5.0,>=2.0.0 in /usr/local/lib/python3.7/dist-packages (from google-auth<2,>=1.6.3->tensorboard~=2.5->tensorflow->fcd) (4.2.2)\n",
            "Requirement already satisfied: pyasn1-modules>=0.2.1 in /usr/local/lib/python3.7/dist-packages (from google-auth<2,>=1.6.3->tensorboard~=2.5->tensorflow->fcd) (0.2.8)\n",
            "Requirement already satisfied: importlib-metadata; python_version < \"3.8\" in /usr/local/lib/python3.7/dist-packages (from markdown>=2.6.8->tensorboard~=2.5->tensorflow->fcd) (4.0.1)\n",
            "Requirement already satisfied: chardet<4,>=3.0.2 in /usr/local/lib/python3.7/dist-packages (from requests<3,>=2.21.0->tensorboard~=2.5->tensorflow->fcd) (3.0.4)\n",
            "Requirement already satisfied: idna<3,>=2.5 in /usr/local/lib/python3.7/dist-packages (from requests<3,>=2.21.0->tensorboard~=2.5->tensorflow->fcd) (2.10)\n",
            "Requirement already satisfied: certifi>=2017.4.17 in /usr/local/lib/python3.7/dist-packages (from requests<3,>=2.21.0->tensorboard~=2.5->tensorflow->fcd) (2020.12.5)\n",
            "Requirement already satisfied: urllib3!=1.25.0,!=1.25.1,<1.26,>=1.21.1 in /usr/local/lib/python3.7/dist-packages (from requests<3,>=2.21.0->tensorboard~=2.5->tensorflow->fcd) (1.24.3)\n",
            "Requirement already satisfied: oauthlib>=3.0.0 in /usr/local/lib/python3.7/dist-packages (from requests-oauthlib>=0.7.0->google-auth-oauthlib<0.5,>=0.4.1->tensorboard~=2.5->tensorflow->fcd) (3.1.0)\n",
            "Requirement already satisfied: pyasn1>=0.1.3 in /usr/local/lib/python3.7/dist-packages (from rsa<5,>=3.1.4; python_version >= \"3.6\"->google-auth<2,>=1.6.3->tensorboard~=2.5->tensorflow->fcd) (0.4.8)\n",
            "Requirement already satisfied: zipp>=0.5 in /usr/local/lib/python3.7/dist-packages (from importlib-metadata; python_version < \"3.8\"->markdown>=2.6.8->tensorboard~=2.5->tensorflow->fcd) (3.4.1)\n",
            "Installing collected packages: fcd\n",
            "Successfully installed fcd-1.1\n",
            "Collecting SmilesPE\n",
            "  Downloading https://files.pythonhosted.org/packages/6d/f9/273f54d9d4b42779926291c82a5b3ffea30cff2492ebbe4ce08dccdcc949/SmilesPE-0.0.3-py3-none-any.whl\n",
            "Requirement already satisfied: fastprogress in /usr/local/lib/python3.7/dist-packages (from SmilesPE) (1.0.0)\n",
            "Requirement already satisfied: gensim in /usr/local/lib/python3.7/dist-packages (from SmilesPE) (3.6.0)\n",
            "Requirement already satisfied: numpy in /usr/local/lib/python3.7/dist-packages (from fastprogress->SmilesPE) (1.19.5)\n",
            "Requirement already satisfied: six>=1.5.0 in /usr/local/lib/python3.7/dist-packages (from gensim->SmilesPE) (1.15.0)\n",
            "Requirement already satisfied: smart-open>=1.2.1 in /usr/local/lib/python3.7/dist-packages (from gensim->SmilesPE) (5.0.0)\n",
            "Requirement already satisfied: scipy>=0.18.1 in /usr/local/lib/python3.7/dist-packages (from gensim->SmilesPE) (1.4.1)\n",
            "Installing collected packages: SmilesPE\n",
            "Successfully installed SmilesPE-0.0.3\n"
          ],
          "name": "stdout"
        }
      ]
    },
    {
      "cell_type": "code",
      "metadata": {
        "colab": {
          "base_uri": "https://localhost:8080/"
        },
        "id": "wDigIiNRa9VH",
        "outputId": "3ee8f94b-69cf-4b67-86d9-81fdb0993168"
      },
      "source": [
        "import os\n",
        "import pandas as pd\n",
        "import numpy as np\n",
        "import random\n",
        "import pickle\n",
        "import rdkit\n",
        "from SmilesPE.pretokenizer import atomwise_tokenizer\n",
        "import torch\n",
        "import torch.nn as nn\n",
        "from torch.utils.data import Dataset, DataLoader\n",
        "import torch.nn.functional as F\n",
        "from torch.nn.utils.rnn import pad_sequence\n",
        "from torch.nn.utils.rnn import pack_padded_sequence, pad_packed_sequence\n",
        "from torch.autograd import Variable\n",
        "import tqdm\n",
        "from sklearn.model_selection import train_test_split\n",
        "from typing import Tuple\n",
        "from tqdm import tqdm\n",
        "import matplotlib.pyplot as plt\n",
        "plt.style.use('dark_background')\n",
        "\n",
        "# Ignore some warnings from RDKIT\n",
        "from rdkit import RDLogger  \n",
        "RDLogger.DisableLog('rdApp.*') \n",
        "\n",
        "import warnings\n",
        "warnings.filterwarnings(\"ignore\")\n",
        "\n",
        "# Load methods from the FCD library\n",
        "from fcd import get_fcd, load_ref_model, canonical_smiles, get_predictions, calculate_frechet_distance\n",
        "\n",
        "np.random.seed(1234)\n",
        "\n",
        "# For CUDA debugging\n",
        "import os\n",
        "os.environ['CUDA_LAUNCH_BLOCKING'] = \"1\"\n",
        "\n",
        "print(\"RDKit: \", rdkit.__version__)\n",
        "device = torch.device(\"cuda:0\" if torch.cuda.is_available() else \"cpu\")"
      ],
      "execution_count": 2,
      "outputs": [
        {
          "output_type": "stream",
          "text": [
            "RDKit:  2020.09.1\n"
          ],
          "name": "stdout"
        }
      ]
    },
    {
      "cell_type": "code",
      "metadata": {
        "colab": {
          "base_uri": "https://localhost:8080/"
        },
        "id": "8DoeONI286qG",
        "outputId": "53c5bb2b-3197-4889-c4bd-427a1ded312a"
      },
      "source": [
        "from google.colab import drive\n",
        "drive.mount('/content/drive')"
      ],
      "execution_count": 3,
      "outputs": [
        {
          "output_type": "stream",
          "text": [
            "Mounted at /content/drive\n"
          ],
          "name": "stdout"
        }
      ]
    },
    {
      "cell_type": "code",
      "metadata": {
        "id": "dqL0fiDqi1Z-"
      },
      "source": [
        "path = '/content/drive/MyDrive/ails_challenge_2/'"
      ],
      "execution_count": 4,
      "outputs": []
    },
    {
      "cell_type": "markdown",
      "metadata": {
        "id": "0PbMEbAKlmeL"
      },
      "source": [
        "# Utility Functions"
      ]
    },
    {
      "cell_type": "code",
      "metadata": {
        "id": "-o1DNq_CRblP"
      },
      "source": [
        "def plot_metrics(train_errors, valid_errors):\n",
        "  x = np.arange(1, len(train_errors)+1)\n",
        "  fig = plt.figure(figsize=(20,5))\n",
        "  ax = fig.add_subplot(131, label=\"train\")\n",
        "  ax.plot(x, train_errors, color=\"C0\", label=\"training loss\")\n",
        "  ax.plot(x, valid_errors, color=\"C1\", label=\"validation loss\")\n",
        "  ax.set_ylabel(\"Loss\")\n",
        "  ax.set_xlabel(\"Epoch\")        \n",
        "  ax.xaxis.grid(False)  \n",
        "  ax.legend()\n",
        "\n",
        "  plt.show()"
      ],
      "execution_count": 63,
      "outputs": []
    },
    {
      "cell_type": "code",
      "metadata": {
        "id": "8GNxLa1dKgLK"
      },
      "source": [
        "def save_checkpoint(model, optimiser, epoch, loss, dictionary):\n",
        "  \"\"\"Saves a model checkpoint\"\"\"\n",
        "  state = {\n",
        "      'epoch': epoch,\n",
        "      'model_state_dict': model.state_dict(),\n",
        "      'optimiser_state_dict': optimiser.state_dict(),\n",
        "      'loss': loss,\n",
        "      'dict': dictionary\n",
        "  }\n",
        "  os.makedirs(path + \"checkpoints\", exist_ok=True)\n",
        "  ckp_name = f'checkpoint-epoch{epoch}.pth'\n",
        "  filename = os.path.join(path + \"checkpoints\", ckp_name)\n",
        "  torch.save(state, filename)"
      ],
      "execution_count": 6,
      "outputs": []
    },
    {
      "cell_type": "code",
      "metadata": {
        "id": "064Z4OlrMTSr"
      },
      "source": [
        "def load_checkpoint(model, optimiser, epoch):\n",
        "  ckp_name = f'checkpoint-epoch{epoch}.pth'\n",
        "  filename = os.path.join(path + \"checkpoints\", ckp_name)\n",
        "\n",
        "  checkpoint = torch.load(filename)\n",
        "  model.load_state_dict(checkpoint['model_state_dict'])\n",
        "  optimiser.load_state_dict(checkpoint['optimiser_state_dict'])\n",
        "  loss = checkpoint['loss']\n",
        "  dictionary = checkpoint['dict']\n",
        "  return model, optimiser, loss, dictionary"
      ],
      "execution_count": 43,
      "outputs": []
    },
    {
      "cell_type": "markdown",
      "metadata": {
        "id": "ezLa5lOqs3G3"
      },
      "source": [
        "# Preprocessing"
      ]
    },
    {
      "cell_type": "code",
      "metadata": {
        "id": "UZBQeETOByj4"
      },
      "source": [
        "def load_data(file_path):\n",
        "  with open(file_path, 'r', encoding=\"utf-8\") as file:\n",
        "    data = file.read()\n",
        "  return data\n",
        "\n",
        "def get_dictionary(data, atom):\n",
        "  if atom:\n",
        "    characters = [pad_token, start_token, end_token] + list(set(atomwise_tokenizer(data)))\n",
        "  else:\n",
        "    characters = [pad_token, start_token, end_token] + sorted(list(set(data)))\n",
        "\n",
        "  char2idx = dict((c, i) for i, c in enumerate(characters))\n",
        "  idx2char = dict((i, c) for i, c in enumerate(characters))\n",
        "  dictionary = (char2idx, idx2char)\n",
        "  return dictionary, characters\n",
        "\n",
        "def preprocess(data):  \n",
        "  smiles = data.split() # separate string into distinct smiles molecules\n",
        "  smiles_can = canonical_smiles(smiles)  # canonicalize\n",
        "  smiles_can = list(filter(None, smiles_can))  # filter invalid ones\n",
        "  preprocessed_smiles = add_tokens(smiles_can)\n",
        "  return preprocessed_smiles\n",
        "\n",
        "def add_tokens(smiles):\n",
        "  smiles_new = []\n",
        "  for smile in smiles:\n",
        "    smiles_new.append(start_token + smile + end_token)\n",
        "  return smiles_new\n",
        "\n",
        "def encode(smiles, dictionary, atom):\n",
        "  char2idx = dictionary[0]\n",
        "  if atom:\n",
        "    encoded = []\n",
        "    for smile in smiles:\n",
        "      token = atomwise_tokenizer(smile)\n",
        "      if len(token) > 1:\n",
        "        tokenized = [1]\n",
        "        for s in token:    \n",
        "          tokenized.append(char2idx[s])\n",
        "        tokenized.append(2)\n",
        "        encoded.append(torch.Tensor(tokenized).long())\n",
        "  else:\n",
        "    encoded = [torch.Tensor([char2idx[s] for s in smile]).long() for smile in smiles]\n",
        "  lengths = [len(smile_enc)-1 for smile_enc in encoded]\n",
        "  return encoded, lengths\n",
        "\n",
        "def get_padded_tensor(encoded, n_max):\n",
        "  dummy = [torch.zeros(n_max)]  # to ensure that train and validation get the same padding size\n",
        "  padded = pad_sequence(dummy + encoded, batch_first=True, padding_value=0)\n",
        "  padded = padded[1:]  # omit the dummy\n",
        "  return padded\n",
        "\n",
        "atom = True  # whether to use atomwise tokenizer\n",
        "\n",
        "pad_token = 'x'\n",
        "start_token = 'y'\n",
        "end_token = 'z'\n",
        "\n",
        "data = load_data(path + 'smiles_train.txt')\n",
        "smiles = preprocess(data)\n",
        "dictionary_data = \" \".join(smiles)\n",
        "dictionary, characters = get_dictionary(dictionary_data, atom=atom)\n",
        "\n",
        "n_max = len(max(smiles, key=len))\n",
        "\n",
        "# train test split\n",
        "smiles_train, smiles_val = train_test_split(smiles, test_size=0.3, random_state=42)\n",
        "\n",
        "encoded_train, lengths_train = encode(smiles_train, dictionary, atom=atom)\n",
        "encoded_val, lengths_val = encode(smiles_val, dictionary, atom=atom)\n",
        "\n",
        "tensor_train = get_padded_tensor(encoded_train, n_max)\n",
        "tensor_val = get_padded_tensor(encoded_val, n_max)"
      ],
      "execution_count": 8,
      "outputs": []
    },
    {
      "cell_type": "code",
      "metadata": {
        "id": "aTFKEoggnK6j"
      },
      "source": [
        "class Data(Dataset):\n",
        "  def __init__(self, embedded, encoded, lengths):  \n",
        "    self.embedded = embedded\n",
        "    self.encoded = encoded\n",
        "    self.lengths = lengths\n",
        "    self.samples = self.__create_samples() \n",
        "\n",
        "  def __get_tuple(self, idx):\n",
        "    data = self.embedded[idx,:]\n",
        "    x = data[0:-1]\n",
        "    y = data[1:]\n",
        "    len = self.lengths[idx]\n",
        "    return (x, y, len)\n",
        "\n",
        "  def __create_samples(self):\n",
        "    samples = [self.__get_tuple(idx) for idx in range(self.embedded.shape[0])]\n",
        "    return samples\n",
        "        \n",
        "  def __len__(self) -> int:\n",
        "    return len(self.samples)\n",
        "      \n",
        "  def __getitem__(self, idx: int) -> Tuple[torch.Tensor, torch.Tensor]:\n",
        "    return self.samples[idx]"
      ],
      "execution_count": 9,
      "outputs": []
    },
    {
      "cell_type": "code",
      "metadata": {
        "id": "KaHQsoEu2r7n"
      },
      "source": [
        "train_set = Data(tensor_train.long(), encoded_train, lengths_train)\n",
        "val_set = Data(tensor_val.long(), encoded_val, lengths_val)"
      ],
      "execution_count": 10,
      "outputs": []
    },
    {
      "cell_type": "markdown",
      "metadata": {
        "id": "fHWcSfUXs94A"
      },
      "source": [
        "# Network"
      ]
    },
    {
      "cell_type": "code",
      "metadata": {
        "id": "poWslySOuanP"
      },
      "source": [
        "class MoleculeGenerator(nn.Module):\n",
        "  def __init__(self, n_in, n_hidden, n_out, n_seq, n_layers=1, dropout_rate=0.3):\n",
        "    super(MoleculeGenerator, self).__init__()\n",
        "    self.n_hidden = n_hidden\n",
        "    self.n_layers = n_layers\n",
        "    self.n_out = n_out\n",
        "    self.n_seq = n_seq\n",
        "\n",
        "    self.embedding = nn.Embedding(n_out, n_in, padding_idx=0)\n",
        "    self.lstm = nn.LSTM(input_size=n_in, hidden_size=n_hidden, num_layers=n_layers, dropout=dropout_rate, batch_first=True)\n",
        "    self.out = nn.Linear(n_hidden, n_out)\n",
        "\n",
        "  def forward(self, input, hidden, lengths=None):\n",
        "    input = self.embedding(input)\n",
        "    if lengths is not None:\n",
        "      input = pack_padded_sequence(input, lengths, batch_first=True, enforce_sorted=False)\n",
        "    output, hidden = self.lstm(input, hidden)\n",
        "    if lengths is not None:\n",
        "      output, _ = pad_packed_sequence(output, batch_first=True, total_length=self.n_seq)\n",
        "    output = output.contiguous().view(-1, self.n_hidden)\n",
        "    output = self.out(output)\n",
        "    return output, hidden\n",
        "\n",
        "  def init_hidden(self, batch_size):\n",
        "    hidden=(Variable(torch.zeros(self.n_layers, batch_size, self.n_hidden)),\n",
        "            Variable(torch.zeros(self.n_layers, batch_size, self.n_hidden)))\n",
        "    return hidden\n"
      ],
      "execution_count": 12,
      "outputs": []
    },
    {
      "cell_type": "code",
      "metadata": {
        "id": "Bb5i-b4usHQT"
      },
      "source": [
        "def get_error(network, dataloader, loss):\n",
        "  for x, y, len in dataloader:\n",
        "    x, y = x.to(device), y.to(device)\n",
        "\n",
        "    batch_size = x.size(0)\n",
        "    sequence_length = x.size(1)\n",
        "\n",
        "    hidden = network.init_hidden(batch_size)\n",
        "    hidden = (hidden[0].to(device), hidden[1].to(device))\n",
        "    \n",
        "    y_pred, hidden = network(x, hidden, lengths=None)\n",
        "    err = loss(y_pred, y.view(batch_size * sequence_length))\n",
        "    del(x, y)\n",
        "    yield err"
      ],
      "execution_count": 13,
      "outputs": []
    },
    {
      "cell_type": "code",
      "metadata": {
        "id": "S6sRI1Nxv4oK"
      },
      "source": [
        "@torch.no_grad()\n",
        "def evaluate(network, loss, dataloader, epoch):\n",
        "\n",
        "  network.eval()\n",
        "  errors = []\n",
        "\n",
        "  with tqdm(get_error(network, dataloader, loss), leave=True, unit=\" batches\", position=0, total=len(dataloader)) as pbar:\n",
        "    n_batches = len(pbar)\n",
        "    for i, err in enumerate(pbar):\n",
        "      pbar.set_description('epoch {}: validation loss {}'.format(epoch, round(err.item(), 4)))\n",
        "      errors.append(err.item())\n",
        "\n",
        "      if i == n_batches-1:\n",
        "        mean_err = sum(errors) / len(errors)\n",
        "        pbar.set_description('epoch {}: mean validation loss {}'.format(epoch, round(mean_err, 4)))\n",
        "  pbar.close()\n",
        "  return mean_err"
      ],
      "execution_count": 38,
      "outputs": []
    },
    {
      "cell_type": "code",
      "metadata": {
        "id": "jBkEeQ-Ks4vI"
      },
      "source": [
        "@torch.enable_grad()\n",
        "def update(network, loss, dataloader, opt, epoch):\n",
        "  network.train()\n",
        "  errors = []\n",
        "\n",
        "  with tqdm(get_error(network, dataloader, loss), leave=True, unit=\" batches\", position=0, total=len(dataloader)) as pbar:\n",
        "    n_batches = len(pbar)\n",
        "    for i, err in enumerate(pbar):\n",
        "      network.zero_grad()\n",
        "      err.backward()\n",
        "      opt.step()\n",
        "\n",
        "      pbar.set_description('epoch {}: training loss {}'.format(epoch, round(err.item(), 4)))\n",
        "      errors.append(err.item())\n",
        "\n",
        "      if i == n_batches-1:\n",
        "        mean_err = sum(errors) / len(errors)\n",
        "        pbar.set_description('epoch {}: mean training loss {}'.format(epoch, round(mean_err, 4)))\n",
        "\n",
        "  pbar.close()\n",
        "  return mean_err"
      ],
      "execution_count": 39,
      "outputs": []
    },
    {
      "cell_type": "markdown",
      "metadata": {
        "id": "6ZMdcDnTlrv2"
      },
      "source": [
        "# Training"
      ]
    },
    {
      "cell_type": "code",
      "metadata": {
        "id": "GSIZtIQvpEEu"
      },
      "source": [
        "# Parameters\n",
        "n_in = len(characters)  # embedding size\n",
        "n_hidden = 1000\n",
        "n_out = len(characters)  # number of characters\n",
        "n_layers = 2\n",
        "batch_size = 256\n",
        "shuffle = True\n",
        "epochs = 21\n",
        "lr = 1e-4\n",
        "n_seq = n_max-1"
      ],
      "execution_count": 59,
      "outputs": []
    },
    {
      "cell_type": "code",
      "metadata": {
        "colab": {
          "base_uri": "https://localhost:8080/"
        },
        "id": "Tst96rsewS3G",
        "outputId": "89ebf4cd-69f6-48a7-d9ee-180b33a845ca"
      },
      "source": [
        "train_errors = []\n",
        "valid_errors = []\n",
        "\n",
        "# Data\n",
        "train_loader = DataLoader(train_set, batch_size=batch_size, shuffle=shuffle)\n",
        "valid_loader = DataLoader(val_set, batch_size=batch_size)\n",
        "    \n",
        "# Network, Loss and Optimiser\n",
        "network = MoleculeGenerator(n_in, n_hidden, n_out, n_seq, n_layers)\n",
        "network = network.to(device)\n",
        "loss = nn.CrossEntropyLoss(ignore_index=0)\n",
        "optimiser = torch.optim.Adam(network.parameters(), lr=lr)  \n",
        "\n",
        "for epoch in range(epochs):\n",
        "  if epoch is 0:\n",
        "    pass  # skip initial validation to speed up training\n",
        "    # train_errors = [evaluate(network, loss.eval(), train_loader, epoch)]\n",
        "    # valid_errors = [evaluate(network, loss.eval(), valid_loader, epoch)]\n",
        "  else:\n",
        "    train_error = update(network, loss, train_loader, optimiser, epoch)\n",
        "    train_errors.append(train_error)\n",
        "    valid_error = evaluate(network, loss.eval(), valid_loader, epoch)\n",
        "    valid_errors.append(valid_error)\n",
        "    save_checkpoint(network, optimiser, epoch, loss, dictionary)  "
      ],
      "execution_count": 60,
      "outputs": [
        {
          "output_type": "stream",
          "text": [
            "epoch 1: mean training loss 1.0143: 100%|██████████| 3481/3481 [11:45<00:00,  4.94 batches/s]\n",
            "epoch 1: mean validation loss 0.7813: 100%|██████████| 1492/1492 [01:50<00:00, 13.53 batches/s]\n",
            "epoch 2: mean training loss 0.7478: 100%|██████████| 3481/3481 [11:45<00:00,  4.94 batches/s]\n",
            "epoch 2: mean validation loss 0.7014: 100%|██████████| 1492/1492 [01:50<00:00, 13.55 batches/s]\n",
            "epoch 3: mean training loss 0.6873: 100%|██████████| 3481/3481 [11:45<00:00,  4.93 batches/s]\n",
            "epoch 3: mean validation loss 0.6566: 100%|██████████| 1492/1492 [01:49<00:00, 13.57 batches/s]\n",
            "epoch 4: mean training loss 0.6496: 100%|██████████| 3481/3481 [11:45<00:00,  4.94 batches/s]\n",
            "epoch 4: mean validation loss 0.6264: 100%|██████████| 1492/1492 [01:49<00:00, 13.58 batches/s]\n",
            "epoch 5: mean training loss 0.622: 100%|██████████| 3481/3481 [11:45<00:00,  4.94 batches/s]\n",
            "epoch 5: mean validation loss 0.6037: 100%|██████████| 1492/1492 [01:50<00:00, 13.52 batches/s]\n",
            "epoch 6: mean training loss 0.6007: 100%|██████████| 3481/3481 [11:45<00:00,  4.93 batches/s]\n",
            "epoch 6: mean validation loss 0.5878: 100%|██████████| 1492/1492 [01:50<00:00, 13.55 batches/s]\n",
            "epoch 7: mean training loss 0.5836: 100%|██████████| 3481/3481 [11:45<00:00,  4.94 batches/s]\n",
            "epoch 7: mean validation loss 0.5728: 100%|██████████| 1492/1492 [01:50<00:00, 13.56 batches/s]\n",
            "epoch 8: mean training loss 0.5694: 100%|██████████| 3481/3481 [11:48<00:00,  4.92 batches/s]\n",
            "epoch 8: mean validation loss 0.5608: 100%|██████████| 1492/1492 [01:49<00:00, 13.58 batches/s]\n",
            "epoch 9: mean training loss 0.5573: 100%|██████████| 3481/3481 [11:49<00:00,  4.91 batches/s]\n",
            "epoch 9: mean validation loss 0.5518: 100%|██████████| 1492/1492 [01:50<00:00, 13.56 batches/s]\n",
            "epoch 10: mean training loss 0.5469: 100%|██████████| 3481/3481 [11:48<00:00,  4.91 batches/s]\n",
            "epoch 10: mean validation loss 0.5441: 100%|██████████| 1492/1492 [01:49<00:00, 13.58 batches/s]\n",
            "epoch 11: mean training loss 0.5378: 100%|██████████| 3481/3481 [11:48<00:00,  4.91 batches/s]\n",
            "epoch 11: mean validation loss 0.5378: 100%|██████████| 1492/1492 [01:50<00:00, 13.51 batches/s]\n",
            "epoch 12: mean training loss 0.5298: 100%|██████████| 3481/3481 [11:50<00:00,  4.90 batches/s]\n",
            "epoch 12: mean validation loss 0.5316: 100%|██████████| 1492/1492 [01:50<00:00, 13.47 batches/s]\n",
            "epoch 13: mean training loss 0.5228: 100%|██████████| 3481/3481 [11:50<00:00,  4.90 batches/s]\n",
            "epoch 13: mean validation loss 0.5277: 100%|██████████| 1492/1492 [01:50<00:00, 13.50 batches/s]\n",
            "epoch 14: mean training loss 0.516: 100%|██████████| 3481/3481 [11:51<00:00,  4.89 batches/s]\n",
            "epoch 14: mean validation loss 0.5227: 100%|██████████| 1492/1492 [01:50<00:00, 13.55 batches/s]\n",
            "epoch 15: mean training loss 0.5102: 100%|██████████| 3481/3481 [11:50<00:00,  4.90 batches/s]\n",
            "epoch 15: mean validation loss 0.5193: 100%|██████████| 1492/1492 [01:50<00:00, 13.55 batches/s]\n",
            "epoch 16: mean training loss 0.5048: 100%|██████████| 3481/3481 [11:50<00:00,  4.90 batches/s]\n",
            "epoch 16: mean validation loss 0.516: 100%|██████████| 1492/1492 [01:50<00:00, 13.56 batches/s]\n",
            "epoch 17: mean training loss 0.4999: 100%|██████████| 3481/3481 [11:50<00:00,  4.90 batches/s]\n",
            "epoch 17: mean validation loss 0.5145: 100%|██████████| 1492/1492 [01:50<00:00, 13.50 batches/s]\n",
            "epoch 18: mean training loss 0.4953: 100%|██████████| 3481/3481 [11:50<00:00,  4.90 batches/s]\n",
            "epoch 18: mean validation loss 0.5107: 100%|██████████| 1492/1492 [01:50<00:00, 13.49 batches/s]\n",
            "epoch 19: mean training loss 0.4911: 100%|██████████| 3481/3481 [11:50<00:00,  4.90 batches/s]\n",
            "epoch 19: mean validation loss 0.5087: 100%|██████████| 1492/1492 [01:50<00:00, 13.51 batches/s]\n",
            "epoch 20: mean training loss 0.4871: 100%|██████████| 3481/3481 [11:50<00:00,  4.90 batches/s]\n",
            "epoch 20: mean validation loss 0.5064: 100%|██████████| 1492/1492 [01:50<00:00, 13.47 batches/s]\n"
          ],
          "name": "stderr"
        }
      ]
    },
    {
      "cell_type": "code",
      "metadata": {
        "colab": {
          "base_uri": "https://localhost:8080/",
          "height": 334
        },
        "id": "uR62ezPXtMW4",
        "outputId": "47542993-873e-462d-933f-248a00f2beb9"
      },
      "source": [
        "plot_metrics(train_errors, valid_errors)"
      ],
      "execution_count": 64,
      "outputs": [
        {
          "output_type": "display_data",
          "data": {
            "image/png": "[encoded data removed]",
            "text/plain": [
              "<Figure size 1440x360 with 1 Axes>"
            ]
          },
          "metadata": {
            "tags": []
          }
        }
      ]
    },
    {
      "cell_type": "markdown",
      "metadata": {
        "id": "1JyL6Nw1PziE"
      },
      "source": [
        "# Generate SMILES"
      ]
    },
    {
      "cell_type": "markdown",
      "metadata": {
        "id": "7gGBFH3eTDKF"
      },
      "source": [
        "Source of generation code: https://medium.com/@sunitachoudhary103/generating-molecules-using-a-char-rnn-in-pytorch-16885fd9394b"
      ]
    },
    {
      "cell_type": "code",
      "metadata": {
        "id": "U1APZP38mFTN"
      },
      "source": [
        "# Declaring a method to generate new text\n",
        "def sample(net, primes, size, dictionary, top_k=None):\n",
        "  net.eval() # eval mode  \n",
        "  hidden = net.init_hidden(1)\n",
        "  char2idx = dictionary[0]\n",
        "\n",
        "  prime = random.sample(primes, 1)[0]\n",
        "  chars = [ch for ch in prime]\n",
        "  x = np.ones((1,1))  # start token\n",
        "  idx, char, hidden = predict(net, x, hidden, dictionary, top_k=top_k)\n",
        "  for ch in atomwise_tokenizer(prime):\n",
        "    x = np.array([[char2idx[ch]]])\n",
        "    idx, char, hidden = predict(net, x, hidden, dictionary, top_k=top_k)\n",
        "  chars.append(char)\n",
        "\n",
        "  # Now pass in the previous character and get a new one\n",
        "  for ii in range(size):\n",
        "      idx = np.expand_dims(np.expand_dims(np.array(idx), axis=0), axis=0)\n",
        "      idx, char, hidden = predict(net, idx, hidden, dictionary, top_k=top_k)\n",
        "      if idx == 2:\n",
        "        break    \n",
        "      chars.append(char)\n",
        "  return ''.join(chars)"
      ],
      "execution_count": 126,
      "outputs": []
    },
    {
      "cell_type": "code",
      "metadata": {
        "id": "vJ8YemAZdiLk"
      },
      "source": [
        "def predict(net, x, h, dictionary, top_k=None):\n",
        "  ''' Given a character, predict the next character.\n",
        "      Returns the predicted character and the hidden state.\n",
        "  '''\n",
        "  idx2char = dictionary[1]\n",
        "  # tensor inputs\n",
        "  x = torch.from_numpy(x).long()\n",
        "  x = x.to(device)\n",
        "  # detach hidden state from history\n",
        "  h = tuple([each.data.to(device) for each in h])\n",
        "  # get the output of the model\n",
        "  out, h = net(x, h)\n",
        "  p = F.softmax(out, dim=1).data\n",
        "  p = p.cpu() # move to cpu\n",
        "  # get top characters\n",
        "  if top_k is None:\n",
        "      top_ch = np.arange(len(characters))\n",
        "  else:\n",
        "      p, top_ch = p.topk(top_k)\n",
        "      top_ch = top_ch.numpy().squeeze()\n",
        "  # select the likely next character with some element of randomness\n",
        "  p = p.numpy().squeeze()\n",
        "  idx = np.random.choice(top_ch, p=p/p.sum())\n",
        "  # convert idx to char\n",
        "  char = idx2char[idx]\n",
        "  return idx, char, h"
      ],
      "execution_count": 127,
      "outputs": []
    },
    {
      "cell_type": "code",
      "metadata": {
        "id": "pOFUUc5sdm4G"
      },
      "source": [
        "n_smiles = 11000\n",
        "generated_smiles = []\n",
        "\n",
        "# Get prime characters from train data\n",
        "primes = [smile[1:3] for smile in smiles]\n",
        "\n",
        "for i in range(n_smiles):\n",
        "  generated_smiles.append(sample(network, primes, n_max, dictionary, top_k=4))"
      ],
      "execution_count": 128,
      "outputs": []
    },
    {
      "cell_type": "code",
      "metadata": {
        "colab": {
          "base_uri": "https://localhost:8080/"
        },
        "id": "GvivrFCicb53",
        "outputId": "70b7e9ad-1c22-4adc-dc42-15d5a462f8db"
      },
      "source": [
        "generated_smiles[:10]"
      ],
      "execution_count": 129,
      "outputs": [
        {
          "output_type": "execute_result",
          "data": {
            "text/plain": [
              "['COc1cc(CC(=O)NCC(=O)NC(Cc2ccccc2)C(=O)NC(C=Cc2ccccc2)C(=O)O)cc(OC)c1OC',\n",
              " 'CCCCCNCC(O)COc1cccc(O)c1',\n",
              " 'CC(=O)OC1CCC2(C)C(CCC3(C)C2C(=O)C=C2C4C(C)C(C)CCC4(C(=O)N4CCN(Cc5ccccc5)CC4)CCC23)CC1(C)C',\n",
              " 'N=C(N)Nc1ccc(C(=O)OCC(=O)NC2CCC(=O)NC2)cc1',\n",
              " 'COC(=O)NC(C(=O)NN(CCC(O)(Cc1ccccc1)C(=O)NC1c2ccccc2CC1O)Cc1ccc(-c2ccsc2)cc1)C(C)(C)C',\n",
              " 'COc1ccc(N(CC(=O)NCCCN2CCN(c3ccccn3)CC2)S(C)(=O)=O)cc1',\n",
              " '[O=C(O)CCCC(=O)Nc1ccc(-c2nc3ccccc3c(=O)[nH]2)cc1',\n",
              " 'Cc1csc(NC(=O)CCNS(=O)(=O)c2ccc(C)cc2)n1',\n",
              " 'COc1cc(C2CCN(C)CC2)ccc1Nc1ncc2c(n1)N(C)c1ccc(Cl)cc1C(=O)N2C',\n",
              " 'Cc1nn(C)c(C)c1N[S+](=O']"
            ]
          },
          "metadata": {
            "tags": []
          },
          "execution_count": 129
        }
      ]
    },
    {
      "cell_type": "markdown",
      "metadata": {
        "id": "wQp9ILpUxGEo"
      },
      "source": [
        "# Export valid generated SMILES"
      ]
    },
    {
      "cell_type": "code",
      "metadata": {
        "id": "w35IUzRkI3HS",
        "colab": {
          "base_uri": "https://localhost:8080/"
        },
        "outputId": "089c0f76-f3c1-42d8-fcf5-4d034731a1e2"
      },
      "source": [
        "smiles_gen_can = [w for w in canonical_smiles(generated_smiles) if w is not None]\n",
        "print('Nr of valid smiles: ' + str(len(smiles_gen_can)))"
      ],
      "execution_count": 130,
      "outputs": [
        {
          "output_type": "stream",
          "text": [
            "Nr of valid smiles: 10469\n"
          ],
          "name": "stdout"
        }
      ]
    },
    {
      "cell_type": "code",
      "metadata": {
        "id": "St9KXpvBQWM-"
      },
      "source": [
        "with open(path + \"submission.txt\", \"w\") as smiles_file:\n",
        "  smiles_file.write(\"\\n\".join(smiles_gen_can))"
      ],
      "execution_count": 84,
      "outputs": []
    },
    {
      "cell_type": "markdown",
      "metadata": {
        "id": "xSYa0hJy42nJ"
      },
      "source": [
        "# Check Metrics"
      ]
    },
    {
      "cell_type": "code",
      "metadata": {
        "colab": {
          "base_uri": "https://localhost:8080/"
        },
        "id": "i7ynqUHNeW-o",
        "outputId": "844a2ba7-33e2-4397-d010-2f3f26fb8069"
      },
      "source": [
        "smiles_gen = smiles_gen_can.copy()[:10000]\n",
        "smiles_gen_can = [w for w in canonical_smiles(smiles_gen) if w is not None]\n",
        "\n",
        "# Calculate statistics for the sample submission\n",
        "model = load_ref_model()\n",
        "act_gen = get_predictions(model, smiles_gen_can)\n",
        "mu_gen = np.mean(act_gen, axis=0)\n",
        "sigma_gen = np.cov(act_gen.T)\n",
        "\n",
        "# Load precomputed test mean and covariance\n",
        "with open(path + \"resources/test_stats.p\", 'rb') as f:\n",
        "    mu_test, sigma_test = pickle.load(f)\n",
        "\n",
        "fcd_value = calculate_frechet_distance(\n",
        "    mu1=mu_gen,\n",
        "    mu2=mu_test,\n",
        "    sigma1=sigma_gen,\n",
        "    sigma2=sigma_test)\n",
        "print('FCD: ', fcd_value)\n",
        "\n",
        "validity = len(smiles_gen_can) / len(smiles_gen)\n",
        "print(\"Validity: \", validity)\n",
        "\n",
        "smiles_unique = set(smiles_gen_can)\n",
        "uniqueness = len(smiles_unique) / len(smiles_gen)\n",
        "print(\"Uniqueness: \", uniqueness)\n",
        "\n",
        "# load training set for novelty\n",
        "with open(path + \"smiles_train.txt\") as f:\n",
        "    smiles_train = {s for s in f.read().split() if s}\n",
        "\n",
        "smiles_novel = smiles_unique - smiles_train\n",
        "novelty = len(smiles_novel) / len(smiles_gen)\n",
        "print(\"Novelty: \", novelty)"
      ],
      "execution_count": 131,
      "outputs": [
        {
          "output_type": "stream",
          "text": [
            "FCD:  0.6926020565041426\n",
            "Validity:  1.0\n",
            "Uniqueness:  0.9987\n",
            "Novelty:  0.9229\n"
          ],
          "name": "stdout"
        }
      ]
    },
    {
      "cell_type": "markdown",
      "metadata": {
        "id": "AMOxLzNOVlxP"
      },
      "source": [
        "## Load Checkpoint and proceed with training"
      ]
    },
    {
      "cell_type": "code",
      "metadata": {
        "id": "VVP2oq-C3YPv"
      },
      "source": [
        "model = MoleculeGenerator(n_in, n_hidden, n_out, n_seq, n_layers)\n",
        "optimiser = torch.optim.Adam(model.parameters(), lr=lr)   \n",
        "model, optimiser, _, dictionary = load_checkpoint(model, optimiser, epoch=10)\n",
        "model = model.to(device)"
      ],
      "execution_count": 56,
      "outputs": []
    },
    {
      "cell_type": "code",
      "metadata": {
        "id": "bwOFEzctlK25"
      },
      "source": [
        "for epoch in range(21, 31):\n",
        "  train_error = update(model, loss, train_loader, optimiser, epoch)\n",
        "  train_errors.append(train_error)\n",
        "  valid_error = evaluate(model, loss.eval(), valid_loader, epoch)\n",
        "  valid_errors.append(valid_error)\n",
        "  save_checkpoint(model, optimiser, epoch, loss, dictionary)         "
      ],
      "execution_count": null,
      "outputs": []
    }
  ]
}